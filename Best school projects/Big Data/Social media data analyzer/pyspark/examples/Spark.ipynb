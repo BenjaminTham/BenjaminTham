{
 "cells": [
  {
   "cell_type": "markdown",
   "metadata": {},
   "source": [
    "# Notebook to keep track of pyspark codes (DONT RUN HERE)\n",
    "---"
   ]
  },
  {
   "cell_type": "markdown",
   "metadata": {},
   "source": [
    "## 1. Simple line graph to show time (mins) vs number of posts"
   ]
  },
  {
   "cell_type": "code",
   "execution_count": null,
   "metadata": {
    "vscode": {
     "languageId": "plaintext"
    }
   },
   "outputs": [],
   "source": [
    "import os\n",
    "os.environ[\"QT_QPA_PLATFORM\"] = \"xcb\"\n",
    "\n",
    "import matplotlib.pyplot as plt\n",
    "import numpy as np\n",
    "\n",
    "# Read the text file\n",
    "lines = spark.read.text(\"output/part-r-00000\")\n",
    "\n",
    "# Split lines into parts using tab delimiter\n",
    "parts = lines.rdd.map(lambda line: line.value.split(\"\\t\"))\n",
    "\n",
    "# Convert key and value to integers\n",
    "pairs = parts.map(lambda x: (int(x[0]), int(x[1])))\n",
    "\n",
    "# Sort the pairs by key (numerical order)\n",
    "sorted_pairs = pairs.sortByKey()\n",
    "\n",
    "x = np.array([])  # X-axis points\n",
    "y = np.array([])  # Y-axis points\n",
    "\n",
    "# Collect and print the sorted pairs\n",
    "for key, value in sorted_pairs.collect():\n",
    "    # print(\"Key:\", key, \"Value:\", value)\n",
    "   x = np.append(x,[key])\n",
    "   y = np.append(y,[value])\n",
    "\n",
    "plt.xlabel(\"Time\")  # add X-axis label\n",
    "plt.ylabel(\"Number of posts\")  # add Y-axis label    \n",
    "plt.plot(x, y)  # Plot the chart\n",
    "plt.show()  # display"
   ]
  },
  {
   "cell_type": "markdown",
   "metadata": {},
   "source": [
    "---"
   ]
  },
  {
   "cell_type": "markdown",
   "metadata": {},
   "source": [
    "## 2. word cloud for english_keywords column"
   ]
  },
  {
   "cell_type": "code",
   "execution_count": null,
   "metadata": {
    "vscode": {
     "languageId": "plaintext"
    }
   },
   "outputs": [],
   "source": [
    "import pandas as pd\n",
    "from wordcloud import WordCloud, STOPWORDS\n",
    "import matplotlib.pyplot as plt\n",
    "\n",
    "# Read CSV (adjust 'sep' if needed)\n",
    "df = pd.read_csv('output/part-r-00000', sep='\\t', header=None, names=['keyword', 'count'])\n",
    "\n",
    "# Convert all keywords to lowercase\n",
    "df['keyword'] = df['keyword'].str.lower()\n",
    "\n",
    "# Build the frequencies dictionary\n",
    "frequencies = df.set_index('keyword')['count'].to_dict()\n",
    "\n",
    "# Create the word cloud\n",
    "wordcloud = WordCloud(width=800, height=400,\n",
    "                      background_color='white',\n",
    "                      stopwords=STOPWORDS\n",
    "                      ).generate_from_frequencies(frequencies)\n",
    "\n",
    "# Display\n",
    "plt.figure(figsize=(10, 5))\n",
    "plt.imshow(wordcloud, interpolation='bilinear')\n",
    "plt.axis('off')\n",
    "plt.show()"
   ]
  }
 ],
 "metadata": {
  "language_info": {
   "name": "python"
  }
 },
 "nbformat": 4,
 "nbformat_minor": 2
}
